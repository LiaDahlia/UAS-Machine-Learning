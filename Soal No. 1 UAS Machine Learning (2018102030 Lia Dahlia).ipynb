{
  "nbformat": 4,
  "nbformat_minor": 0,
  "metadata": {
    "colab": {
      "name": "Untitled3.ipynb",
      "provenance": [],
      "collapsed_sections": [],
      "authorship_tag": "ABX9TyM/MGA7hiUJhIjLfNMo9fVy",
      "include_colab_link": true
    },
    "kernelspec": {
      "name": "python3",
      "display_name": "Python 3"
    }
  },
  "cells": [
    {
      "cell_type": "markdown",
      "metadata": {
        "id": "view-in-github",
        "colab_type": "text"
      },
      "source": [
        "<a href=\"https://colab.research.google.com/github/LiaDahlia/UAS-Machine-Learning/blob/main/Soal%20No.%201%20UAS%20Machine%20Learning%20(2018102030%20Lia%20Dahlia).ipynb\" target=\"_parent\"><img src=\"https://colab.research.google.com/assets/colab-badge.svg\" alt=\"Open In Colab\"/></a>"
      ]
    },
    {
      "cell_type": "code",
      "metadata": {
        "id": "kKw0vtMU80YM"
      },
      "source": [
        "#Dataset\r\n",
        "jk =['Laki-laki','Laki-laki', 'Perempuan', 'Perempuan', 'Laki-laki', 'Laki-laki', 'Perempuan','Perempuan', 'Laki-laki', 'Perempuan']\r\n",
        "biaya =['Murah', 'Murah', 'Murah','Murah','Murah', 'Standar', 'Standar', 'Mahal', 'Mahal','Mahal']\r\n",
        "income =['Rendah','Sedang','Sedang', 'Rendah', 'Sedang','Sedang','Sedang', 'Tinggi', 'Sedang', 'Tinggi']\r\n",
        "transportasi =['Bus', 'Bus', 'Kereta Api', 'Bus', 'Bus', 'Kereta Api','Kereta Api', 'Mobil', 'Mobil','Mobil' ]\r\n",
        "\r\n",
        "tujuan =['No','Yes','Yes','No','Yes','No','Yes','Yes','No', 'No']  "
      ],
      "execution_count": 3,
      "outputs": []
    },
    {
      "cell_type": "code",
      "metadata": {
        "colab": {
          "base_uri": "https://localhost:8080/"
        },
        "id": "ohJ5meA__glo",
        "outputId": "ccc0d79b-b9f4-4159-daf0-dfd40030ff34"
      },
      "source": [
        "#Import LabelEncoder\r\n",
        "from sklearn import preprocessing\r\n",
        "#creating labelEncoder\r\n",
        "le = preprocessing.LabelEncoder()\r\n",
        "#Convert label string ke numbers\r\n",
        "jk_encoded=le.fit_transform(jk)\r\n",
        "print (jk_encoded)"
      ],
      "execution_count": 4,
      "outputs": [
        {
          "output_type": "stream",
          "text": [
            "[0 0 1 1 0 0 1 1 0 1]\n"
          ],
          "name": "stdout"
        }
      ]
    },
    {
      "cell_type": "code",
      "metadata": {
        "colab": {
          "base_uri": "https://localhost:8080/"
        },
        "id": "cdjDV1N2_tA0",
        "outputId": "49d9fa7c-c1f9-4a2e-c0cc-736ca0b588cc"
      },
      "source": [
        "#Import LabelEncoder\r\n",
        "from sklearn import preprocessing\r\n",
        "#creating labelEncoder\r\n",
        "label = preprocessing.LabelEncoder()\r\n",
        "#Convert label string ke numbers\r\n",
        "biaya_encoded=label.fit_transform(biaya)\r\n",
        "print (biaya_encoded) \r\n",
        "\r\n",
        "income_encoded=label.fit_transform(income)\r\n",
        "print (income_encoded)\r\n",
        "\r\n",
        "transportasi_encoded=label.fit_transform(transportasi)\r\n",
        "print (transportasi_encoded)\r\n",
        "\r\n",
        "tujuan_encoded=label.fit_transform(tujuan)\r\n",
        "print (tujuan_encoded)"
      ],
      "execution_count": 6,
      "outputs": [
        {
          "output_type": "stream",
          "text": [
            "[1 1 1 1 1 2 2 0 0 0]\n",
            "[0 1 1 0 1 1 1 2 1 2]\n",
            "[0 0 1 0 0 1 1 2 2 2]\n",
            "[0 1 1 0 1 0 1 1 0 0]\n"
          ],
          "name": "stdout"
        }
      ]
    },
    {
      "cell_type": "code",
      "metadata": {
        "colab": {
          "base_uri": "https://localhost:8080/"
        },
        "id": "DWosm66GARBP",
        "outputId": "a8898f61-aa95-4488-f1ad-4e6e0af6c611"
      },
      "source": [
        "print (\"Jenis Kelamin             :\",jk_encoded)\r\n",
        "print (\"Biaya Perjalanan(Rp)/km   :\",biaya_encoded)\r\n",
        "print (\"Income Level              :\",income_encoded)\r\n",
        "print (\"Model Transportasi        :\",transportasi_encoded)\r\n",
        "print (\"Tujuan                    :\",tujuan_encoded)"
      ],
      "execution_count": 7,
      "outputs": [
        {
          "output_type": "stream",
          "text": [
            "Jenis Kelamin             : [0 0 1 1 0 0 1 1 0 1]\n",
            "Biaya Perjalanan(Rp)/km   : [1 1 1 1 1 2 2 0 0 0]\n",
            "Income Level              : [0 1 1 0 1 1 1 2 1 2]\n",
            "Model Transportasi        : [0 0 1 0 0 1 1 2 2 2]\n",
            "Tujuan                    : [0 1 1 0 1 0 1 1 0 0]\n"
          ],
          "name": "stdout"
        }
      ]
    },
    {
      "cell_type": "code",
      "metadata": {
        "colab": {
          "base_uri": "https://localhost:8080/"
        },
        "id": "hLQhEXHJA1vH",
        "outputId": "5d9e26b0-e1a5-4666-c688-d66d8ef1e566"
      },
      "source": [
        "#Combining fitur-fitur yang ada\r\n",
        "features=zip(jk_encoded,biaya_encoded,income_encoded,transportasi_encoded)\r\n",
        "features=list(features)\r\n",
        "print (tuple(features))"
      ],
      "execution_count": 8,
      "outputs": [
        {
          "output_type": "stream",
          "text": [
            "((0, 1, 0, 0), (0, 1, 1, 0), (1, 1, 1, 1), (1, 1, 0, 0), (0, 1, 1, 0), (0, 2, 1, 1), (1, 2, 1, 1), (1, 0, 2, 2), (0, 0, 1, 2), (1, 0, 2, 2))\n"
          ],
          "name": "stdout"
        }
      ]
    },
    {
      "cell_type": "code",
      "metadata": {
        "colab": {
          "base_uri": "https://localhost:8080/"
        },
        "id": "r7CVj_pPBB6m",
        "outputId": "4f123a1f-e701-4eb9-9f9e-8fe1de75445e"
      },
      "source": [
        "#Import Gaussian Naive Bayes model\r\n",
        "from sklearn.naive_bayes import GaussianNB\r\n",
        "\r\n",
        "#Panggil Gaussian Classifier\r\n",
        "model = GaussianNB()\r\n",
        "\r\n",
        "#Train model untuk data training\r\n",
        "model.fit(features,tujuan)\r\n",
        "#Model.fit(features,label.reshape(-1,1))\r\n",
        "\r\n",
        "#Peridiction Output\r\n",
        "predicted = model.predict([[1,2,0,0]]) #1 : perempuan, 2: Standar, 0: Rendah, 0 : Bus\r\n",
        "print (\"Hasil Perdiksi:\", predicted)"
      ],
      "execution_count": 10,
      "outputs": [
        {
          "output_type": "stream",
          "text": [
            "Hasil Perdiksi: ['No']\n"
          ],
          "name": "stdout"
        }
      ]
    }
  ]
}